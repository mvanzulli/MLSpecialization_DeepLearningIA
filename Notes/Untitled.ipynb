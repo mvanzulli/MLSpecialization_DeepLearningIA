{
 "cells": [
  {
   "cell_type": "markdown",
   "id": "4e41932c",
   "metadata": {},
   "source": [
    "## Basics"
   ]
  },
  {
   "cell_type": "markdown",
   "id": "3d65c2e4",
   "metadata": {},
   "source": [
    "### What is machine learning? \n",
    "Field of study that gives computers the ability to learn without being explicit programmed Arthur Samuel (1959). In general the model accuracy increases with the number of training sets. We have different types of ML supervised and unsperivsed. You *supervise* the alg to solve according to an specific output. For example Regression when we want to predict a number given a data set with real numbers. Classification is another example of supervised learning, we have sizes and diagnosis (0 or 1), or different classes or categories (malignant 1 or malignant 2)\n",
    "\n",
    "- Supervised: This refers to algortihms that learn inputs to outputs labels or logics. For example spam filtering x = mail, y= spam (0/1), translation x = English y = Spanish, or advertising x = ad, user inf y = click?, visual inspection x = image, y = defect. \n",
    "\n",
    "- Unsupervised:  We have no labels or outputs, in the breast cancer example then there is no label for an specific tumor. So the algorithm should detect clustering  (clusters of data that represent or are linked by a common pattern) "
   ]
  },
  {
   "cell_type": "code",
   "execution_count": null,
   "id": "e788036b",
   "metadata": {},
   "outputs": [],
   "source": []
  },
  {
   "cell_type": "code",
   "execution_count": null,
   "id": "ee8045c3",
   "metadata": {},
   "outputs": [],
   "source": []
  }
 ],
 "metadata": {
  "kernelspec": {
   "display_name": "Python 3 (ipykernel)",
   "language": "python",
   "name": "python3"
  },
  "language_info": {
   "codemirror_mode": {
    "name": "ipython",
    "version": 3
   },
   "file_extension": ".py",
   "mimetype": "text/x-python",
   "name": "python",
   "nbconvert_exporter": "python",
   "pygments_lexer": "ipython3",
   "version": "3.10.5"
  }
 },
 "nbformat": 4,
 "nbformat_minor": 5
}
